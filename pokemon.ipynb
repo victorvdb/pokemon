{
 "cells": [
  {
   "cell_type": "markdown",
   "metadata": {},
   "source": [
    "# Pokemon Data Analytics challenge\n",
    "\n",
    "datasource: https://www.kaggle.com/rounakbanik/pokemon/data\n",
    "\n",
    "\n",
    "- **opdracht 1**: kies ten minste 4 relaties die je wilt visualiseren/metrics over wilt berekenen, zoals vraag q1 heronder\n",
    "    - licht elke vraag toe (waarom deze vraag, mag kort in 2 zinnnen)\n",
    "    - schrijf uit wat je 'ziet' in de data\n",
    "    - trek, wanneer mogelijk, een conclusie, of bespreek wat voor iets je extra in beschouwing zou moeten nemen\n",
    "- **opdracht 2**: Kies een wat grotere vraag die je wilt beantwoorden, bijvoorbeeld:\n",
    "    - Is it possible to build a classifier to identify legendary Pokemon?\n",
    "    - Can you build a Pokemon dream team? A team of 6 Pokemon that inflicts the most damage while remaining relatively impervious to any other team of 6 Pokemon.\n",
    "        - wat een dreamteam is mag je zelf verzinnen, je kunt natuurlijk ook voor inspiratie daarover het internet op gaan\n",
    "\n",
    "eisen van de opdracht:\n",
    "- schrijf je data pipeline componenten netjes in functies\n",
    "- probeer generieke data processing 'naar voren' te halen in je data pipeline\n",
    "- probeer je dataverwerking te scheiden van je plotting waar mogelijk"
   ]
  },
  {
   "cell_type": "code",
   "execution_count": 1,
   "metadata": {},
   "outputs": [],
   "source": [
    "import pandas as pd\n",
    "import numpy as np\n",
    "import seaborn as sns"
   ]
  },
  {
   "cell_type": "code",
   "execution_count": 2,
   "metadata": {},
   "outputs": [],
   "source": [
    "df = pd.read_csv('data/pokemon.csv')\n"
   ]
  },
  {
   "cell_type": "code",
   "execution_count": 3,
   "metadata": {},
   "outputs": [],
   "source": [
    "def filter_columns(dataf):\n",
    "    keep_columns = [\n",
    "        \"pokedex_number\",\n",
    "        \"name\",\n",
    "        \"attack\",\n",
    "        \"weight_kg\",\n",
    "        \"generation\",\n",
    "        \"abilities\"\n",
    "    ]\n",
    "    return dataf[keep_columns]\n",
    "\n",
    "def filter_rows(dataf):\n",
    "    return (dataf\n",
    "            .loc[lambda d: d['generation'] == 1]\n",
    "           )\n",
    "\n",
    "def change_dtypes(dataf):\n",
    "    return dataf\n",
    "\n",
    "def preprocess_columns(dataf):\n",
    "    return dataf"
   ]
  },
  {
   "cell_type": "code",
   "execution_count": 4,
   "metadata": {},
   "outputs": [
    {
     "data": {
      "text/html": [
       "<div>\n",
       "<style scoped>\n",
       "    .dataframe tbody tr th:only-of-type {\n",
       "        vertical-align: middle;\n",
       "    }\n",
       "\n",
       "    .dataframe tbody tr th {\n",
       "        vertical-align: top;\n",
       "    }\n",
       "\n",
       "    .dataframe thead th {\n",
       "        text-align: right;\n",
       "    }\n",
       "</style>\n",
       "<table border=\"1\" class=\"dataframe\">\n",
       "  <thead>\n",
       "    <tr style=\"text-align: right;\">\n",
       "      <th></th>\n",
       "      <th>pokedex_number</th>\n",
       "      <th>name</th>\n",
       "      <th>attack</th>\n",
       "      <th>weight_kg</th>\n",
       "      <th>generation</th>\n",
       "      <th>abilities</th>\n",
       "    </tr>\n",
       "  </thead>\n",
       "  <tbody>\n",
       "    <tr>\n",
       "      <td>0</td>\n",
       "      <td>1</td>\n",
       "      <td>Bulbasaur</td>\n",
       "      <td>49</td>\n",
       "      <td>6.9</td>\n",
       "      <td>1</td>\n",
       "      <td>['Overgrow', 'Chlorophyll']</td>\n",
       "    </tr>\n",
       "    <tr>\n",
       "      <td>1</td>\n",
       "      <td>2</td>\n",
       "      <td>Ivysaur</td>\n",
       "      <td>62</td>\n",
       "      <td>13.0</td>\n",
       "      <td>1</td>\n",
       "      <td>['Overgrow', 'Chlorophyll']</td>\n",
       "    </tr>\n",
       "    <tr>\n",
       "      <td>2</td>\n",
       "      <td>3</td>\n",
       "      <td>Venusaur</td>\n",
       "      <td>100</td>\n",
       "      <td>100.0</td>\n",
       "      <td>1</td>\n",
       "      <td>['Overgrow', 'Chlorophyll']</td>\n",
       "    </tr>\n",
       "    <tr>\n",
       "      <td>3</td>\n",
       "      <td>4</td>\n",
       "      <td>Charmander</td>\n",
       "      <td>52</td>\n",
       "      <td>8.5</td>\n",
       "      <td>1</td>\n",
       "      <td>['Blaze', 'Solar Power']</td>\n",
       "    </tr>\n",
       "    <tr>\n",
       "      <td>4</td>\n",
       "      <td>5</td>\n",
       "      <td>Charmeleon</td>\n",
       "      <td>64</td>\n",
       "      <td>19.0</td>\n",
       "      <td>1</td>\n",
       "      <td>['Blaze', 'Solar Power']</td>\n",
       "    </tr>\n",
       "    <tr>\n",
       "      <td>...</td>\n",
       "      <td>...</td>\n",
       "      <td>...</td>\n",
       "      <td>...</td>\n",
       "      <td>...</td>\n",
       "      <td>...</td>\n",
       "      <td>...</td>\n",
       "    </tr>\n",
       "    <tr>\n",
       "      <td>146</td>\n",
       "      <td>147</td>\n",
       "      <td>Dratini</td>\n",
       "      <td>64</td>\n",
       "      <td>3.3</td>\n",
       "      <td>1</td>\n",
       "      <td>['Shed Skin', 'Marvel Scale']</td>\n",
       "    </tr>\n",
       "    <tr>\n",
       "      <td>147</td>\n",
       "      <td>148</td>\n",
       "      <td>Dragonair</td>\n",
       "      <td>84</td>\n",
       "      <td>16.5</td>\n",
       "      <td>1</td>\n",
       "      <td>['Shed Skin', 'Marvel Scale']</td>\n",
       "    </tr>\n",
       "    <tr>\n",
       "      <td>148</td>\n",
       "      <td>149</td>\n",
       "      <td>Dragonite</td>\n",
       "      <td>134</td>\n",
       "      <td>210.0</td>\n",
       "      <td>1</td>\n",
       "      <td>['Inner Focus', 'Multiscale']</td>\n",
       "    </tr>\n",
       "    <tr>\n",
       "      <td>149</td>\n",
       "      <td>150</td>\n",
       "      <td>Mewtwo</td>\n",
       "      <td>150</td>\n",
       "      <td>122.0</td>\n",
       "      <td>1</td>\n",
       "      <td>['Pressure', 'Unnerve']</td>\n",
       "    </tr>\n",
       "    <tr>\n",
       "      <td>150</td>\n",
       "      <td>151</td>\n",
       "      <td>Mew</td>\n",
       "      <td>100</td>\n",
       "      <td>4.0</td>\n",
       "      <td>1</td>\n",
       "      <td>['Synchronize']</td>\n",
       "    </tr>\n",
       "  </tbody>\n",
       "</table>\n",
       "<p>151 rows × 6 columns</p>\n",
       "</div>"
      ],
      "text/plain": [
       "     pokedex_number        name  attack  weight_kg  generation  \\\n",
       "0                 1   Bulbasaur      49        6.9           1   \n",
       "1                 2     Ivysaur      62       13.0           1   \n",
       "2                 3    Venusaur     100      100.0           1   \n",
       "3                 4  Charmander      52        8.5           1   \n",
       "4                 5  Charmeleon      64       19.0           1   \n",
       "..              ...         ...     ...        ...         ...   \n",
       "146             147     Dratini      64        3.3           1   \n",
       "147             148   Dragonair      84       16.5           1   \n",
       "148             149   Dragonite     134      210.0           1   \n",
       "149             150      Mewtwo     150      122.0           1   \n",
       "150             151         Mew     100        4.0           1   \n",
       "\n",
       "                         abilities  \n",
       "0      ['Overgrow', 'Chlorophyll']  \n",
       "1      ['Overgrow', 'Chlorophyll']  \n",
       "2      ['Overgrow', 'Chlorophyll']  \n",
       "3         ['Blaze', 'Solar Power']  \n",
       "4         ['Blaze', 'Solar Power']  \n",
       "..                             ...  \n",
       "146  ['Shed Skin', 'Marvel Scale']  \n",
       "147  ['Shed Skin', 'Marvel Scale']  \n",
       "148  ['Inner Focus', 'Multiscale']  \n",
       "149        ['Pressure', 'Unnerve']  \n",
       "150                ['Synchronize']  \n",
       "\n",
       "[151 rows x 6 columns]"
      ]
     },
     "execution_count": 4,
     "metadata": {},
     "output_type": "execute_result"
    }
   ],
   "source": [
    "clean_df = (df\n",
    "            .pipe(filter_columns)\n",
    "            .pipe(filter_rows)\n",
    "            .pipe(change_dtypes)\n",
    "            .pipe(preprocess_columns)\n",
    "           )\n",
    "clean_df"
   ]
  },
  {
   "cell_type": "markdown",
   "metadata": {},
   "source": [
    "# example question: what is the relation between weight and attack?\n",
    "\n",
    "- hieronder alleen een stukje code met een voorbeeld voor scheiden van dataverwerking van plotting. mijn analyse op 'wat zie je' ontbreekt"
   ]
  },
  {
   "cell_type": "code",
   "execution_count": 5,
   "metadata": {},
   "outputs": [
    {
     "data": {
      "text/plain": [
       "<matplotlib.axes._subplots.AxesSubplot at 0x22f239d2248>"
      ]
     },
     "execution_count": 5,
     "metadata": {},
     "output_type": "execute_result"
    },
    {
     "data": {
      "image/png": "[encoded data removed]",
      "text/plain": [
       "<Figure size 432x288 with 1 Axes>"
      ]
     },
     "metadata": {
      "needs_background": "light"
     },
     "output_type": "display_data"
    }
   ],
   "source": [
    "def remove_fatties(dataf, fat=200):\n",
    "    return dataf.loc[lambda d: d['weight_kg'] < fat]\n",
    "\n",
    "(clean_df\n",
    " .pipe(remove_fatties, fat=300)\n",
    " .plot(x='weight_kg',y='attack', kind='scatter')\n",
    ")"
   ]
  },
  {
   "cell_type": "markdown",
   "metadata": {},
   "source": [
    "Relatie 1: Speed vs Weight\n",
    "\n",
    "Zijn grote dikke pokemons traag?"
   ]
  },
  {
   "cell_type": "code",
   "execution_count": 6,
   "metadata": {},
   "outputs": [
    {
     "data": {
      "text/plain": [
       "<matplotlib.axes._subplots.AxesSubplot at 0x22f23ad6a08>"
      ]
     },
     "execution_count": 6,
     "metadata": {},
     "output_type": "execute_result"
    },
    {
     "data": {
      "image/png": "[encoded data removed]",
      "text/plain": [
       "<Figure size 432x288 with 1 Axes>"
      ]
     },
     "metadata": {
      "needs_background": "light"
     },
     "output_type": "display_data"
    }
   ],
   "source": [
    "def filter_columns(dataf):\n",
    "    keep_columns = [\n",
    "        \"speed\",\n",
    "        \"weight_kg\",\n",
    "        \"generation\"\n",
    "    ]\n",
    "    return dataf[keep_columns]\n",
    "\n",
    "def filter_rows(dataf):\n",
    "    return (dataf\n",
    "            .loc[lambda d: d['generation'] == 1]\n",
    "           )\n",
    "\n",
    "def change_dtypes(dataf):\n",
    "    return dataf\n",
    "\n",
    "def preprocess_columns(dataf):\n",
    "    return dataf\n",
    "\n",
    "clean_df = (df\n",
    "            .pipe(filter_columns)\n",
    "            .pipe(filter_rows)\n",
    "            .pipe(change_dtypes)\n",
    "            .pipe(preprocess_columns)\n",
    "           )\n",
    "\n",
    "def remove_fatties(dataf, fat=200):\n",
    "    return dataf.loc[lambda d: d['weight_kg'] < fat]\n",
    "\n",
    "(clean_df\n",
    " .pipe(remove_fatties, fat=300)\n",
    " .plot(x='weight_kg',y='speed', kind='scatter')\n",
    ")"
   ]
  },
  {
   "cell_type": "markdown",
   "metadata": {},
   "source": [
    "Relatie 2: Speed vs Attack\n",
    "\n",
    "Zijn snelle pokemons slap?"
   ]
  },
  {
   "cell_type": "code",
   "execution_count": 7,
   "metadata": {},
   "outputs": [
    {
     "data": {
      "text/plain": [
       "<matplotlib.axes._subplots.AxesSubplot at 0x22f23b4f688>"
      ]
     },
     "execution_count": 7,
     "metadata": {},
     "output_type": "execute_result"
    },
    {
     "data": {
      "image/png": "[encoded data removed]",
      "text/plain": [
       "<Figure size 432x288 with 1 Axes>"
      ]
     },
     "metadata": {
      "needs_background": "light"
     },
     "output_type": "display_data"
    }
   ],
   "source": [
    "def filter_columns(dataf):\n",
    "    keep_columns = [\n",
    "        \"speed\",\n",
    "        \"attack\",\n",
    "        \"generation\"\n",
    "    ]\n",
    "    return dataf[keep_columns]\n",
    "\n",
    "def filter_rows(dataf):\n",
    "    return (dataf\n",
    "            .loc[lambda d: d['generation'] == 1]\n",
    "           )\n",
    "\n",
    "def change_dtypes(dataf):\n",
    "    return dataf\n",
    "\n",
    "def preprocess_columns(dataf):\n",
    "    return dataf\n",
    "\n",
    "clean_df = (df\n",
    "            .pipe(filter_columns)\n",
    "            .pipe(filter_rows)\n",
    "            .pipe(change_dtypes)\n",
    "            .pipe(preprocess_columns)\n",
    "           )\n",
    "(clean_df\n",
    " .plot(x='attack',y='speed', kind='scatter')\n",
    ")"
   ]
  },
  {
   "cell_type": "markdown",
   "metadata": {},
   "source": [
    "Relatie 3: Attack van legendaries vs non-legendaries\n",
    "\n",
    "Legendary pokemon zou je verwachten dat ze ook super sterk zijn."
   ]
  },
  {
   "cell_type": "code",
   "execution_count": 8,
   "metadata": {},
   "outputs": [
    {
     "data": {
      "image/png": "[encoded data removed]",
      "text/plain": [
       "<Figure size 432x288 with 1 Axes>"
      ]
     },
     "metadata": {
      "needs_background": "light"
     },
     "output_type": "display_data"
    }
   ],
   "source": [
    "def filter_columns(dataf):\n",
    "    keep_columns = [\n",
    "        \"is_legendary\",\n",
    "        \"attack\"\n",
    "    ]\n",
    "    return dataf[keep_columns]\n",
    "\n",
    "def filter_rows(dataf):\n",
    "    return dataf\n",
    "\n",
    "def change_dtypes(dataf):\n",
    "    return dataf\n",
    "\n",
    "def preprocess_columns(dataf):\n",
    "    return dataf\n",
    "\n",
    "clean_df = (df\n",
    "            .pipe(filter_columns)\n",
    "            .pipe(filter_rows)\n",
    "            .pipe(change_dtypes)\n",
    "            .pipe(preprocess_columns)\n",
    "           )\n",
    "\n",
    "ax = sns.boxplot(x=\"is_legendary\", y=\"attack\", data=clean_df)"
   ]
  },
  {
   "cell_type": "markdown",
   "metadata": {},
   "source": [
    "Relatie 4: Attack per type pokemon\n",
    "    "
   ]
  },
  {
   "cell_type": "code",
   "execution_count": 9,
   "metadata": {},
   "outputs": [
    {
     "data": {
      "image/png": "[encoded data removed]",
      "text/plain": [
       "<Figure size 432x288 with 1 Axes>"
      ]
     },
     "metadata": {
      "needs_background": "light"
     },
     "output_type": "display_data"
    }
   ],
   "source": [
    "def filter_columns(dataf):\n",
    "    keep_columns = [\n",
    "        \"type1\",\n",
    "        \"attack\"\n",
    "    ]\n",
    "    return dataf[keep_columns]\n",
    "\n",
    "def filter_rows(dataf):\n",
    "    return dataf\n",
    "\n",
    "def change_dtypes(dataf):\n",
    "    return dataf\n",
    "\n",
    "def preprocess_columns(dataf):\n",
    "    return dataf\n",
    "\n",
    "clean_df = (df\n",
    "            .pipe(filter_columns)\n",
    "            .pipe(filter_rows)\n",
    "            .pipe(change_dtypes)\n",
    "            .pipe(preprocess_columns)\n",
    "           )\n",
    "\n",
    "ax = sns.boxplot(y=\"type1\", x=\"attack\", data=clean_df, orient='h')"
   ]
  },
  {
   "cell_type": "markdown",
   "metadata": {},
   "source": [
    "Opdracht 2 - maak een classifier voor legendary\n",
    "\n"
   ]
  },
  {
   "cell_type": "code",
   "execution_count": 10,
   "metadata": {},
   "outputs": [
    {
     "data": {
      "text/html": [
       "<div>\n",
       "<style scoped>\n",
       "    .dataframe tbody tr th:only-of-type {\n",
       "        vertical-align: middle;\n",
       "    }\n",
       "\n",
       "    .dataframe tbody tr th {\n",
       "        vertical-align: top;\n",
       "    }\n",
       "\n",
       "    .dataframe thead th {\n",
       "        text-align: right;\n",
       "    }\n",
       "</style>\n",
       "<table border=\"1\" class=\"dataframe\">\n",
       "  <thead>\n",
       "    <tr style=\"text-align: right;\">\n",
       "      <th></th>\n",
       "      <th>0</th>\n",
       "      <th>1</th>\n",
       "      <th>2</th>\n",
       "      <th>3</th>\n",
       "      <th>4</th>\n",
       "    </tr>\n",
       "  </thead>\n",
       "  <tbody>\n",
       "    <tr>\n",
       "      <td>abilities</td>\n",
       "      <td>['Overgrow', 'Chlorophyll']</td>\n",
       "      <td>['Overgrow', 'Chlorophyll']</td>\n",
       "      <td>['Overgrow', 'Chlorophyll']</td>\n",
       "      <td>['Blaze', 'Solar Power']</td>\n",
       "      <td>['Blaze', 'Solar Power']</td>\n",
       "    </tr>\n",
       "    <tr>\n",
       "      <td>against_bug</td>\n",
       "      <td>1</td>\n",
       "      <td>1</td>\n",
       "      <td>1</td>\n",
       "      <td>0.5</td>\n",
       "      <td>0.5</td>\n",
       "    </tr>\n",
       "    <tr>\n",
       "      <td>against_dark</td>\n",
       "      <td>1</td>\n",
       "      <td>1</td>\n",
       "      <td>1</td>\n",
       "      <td>1</td>\n",
       "      <td>1</td>\n",
       "    </tr>\n",
       "    <tr>\n",
       "      <td>against_dragon</td>\n",
       "      <td>1</td>\n",
       "      <td>1</td>\n",
       "      <td>1</td>\n",
       "      <td>1</td>\n",
       "      <td>1</td>\n",
       "    </tr>\n",
       "    <tr>\n",
       "      <td>against_electric</td>\n",
       "      <td>0.5</td>\n",
       "      <td>0.5</td>\n",
       "      <td>0.5</td>\n",
       "      <td>1</td>\n",
       "      <td>1</td>\n",
       "    </tr>\n",
       "    <tr>\n",
       "      <td>against_fairy</td>\n",
       "      <td>0.5</td>\n",
       "      <td>0.5</td>\n",
       "      <td>0.5</td>\n",
       "      <td>0.5</td>\n",
       "      <td>0.5</td>\n",
       "    </tr>\n",
       "    <tr>\n",
       "      <td>against_fight</td>\n",
       "      <td>0.5</td>\n",
       "      <td>0.5</td>\n",
       "      <td>0.5</td>\n",
       "      <td>1</td>\n",
       "      <td>1</td>\n",
       "    </tr>\n",
       "    <tr>\n",
       "      <td>against_fire</td>\n",
       "      <td>2</td>\n",
       "      <td>2</td>\n",
       "      <td>2</td>\n",
       "      <td>0.5</td>\n",
       "      <td>0.5</td>\n",
       "    </tr>\n",
       "    <tr>\n",
       "      <td>against_flying</td>\n",
       "      <td>2</td>\n",
       "      <td>2</td>\n",
       "      <td>2</td>\n",
       "      <td>1</td>\n",
       "      <td>1</td>\n",
       "    </tr>\n",
       "    <tr>\n",
       "      <td>against_ghost</td>\n",
       "      <td>1</td>\n",
       "      <td>1</td>\n",
       "      <td>1</td>\n",
       "      <td>1</td>\n",
       "      <td>1</td>\n",
       "    </tr>\n",
       "    <tr>\n",
       "      <td>against_grass</td>\n",
       "      <td>0.25</td>\n",
       "      <td>0.25</td>\n",
       "      <td>0.25</td>\n",
       "      <td>0.5</td>\n",
       "      <td>0.5</td>\n",
       "    </tr>\n",
       "    <tr>\n",
       "      <td>against_ground</td>\n",
       "      <td>1</td>\n",
       "      <td>1</td>\n",
       "      <td>1</td>\n",
       "      <td>2</td>\n",
       "      <td>2</td>\n",
       "    </tr>\n",
       "    <tr>\n",
       "      <td>against_ice</td>\n",
       "      <td>2</td>\n",
       "      <td>2</td>\n",
       "      <td>2</td>\n",
       "      <td>0.5</td>\n",
       "      <td>0.5</td>\n",
       "    </tr>\n",
       "    <tr>\n",
       "      <td>against_normal</td>\n",
       "      <td>1</td>\n",
       "      <td>1</td>\n",
       "      <td>1</td>\n",
       "      <td>1</td>\n",
       "      <td>1</td>\n",
       "    </tr>\n",
       "    <tr>\n",
       "      <td>against_poison</td>\n",
       "      <td>1</td>\n",
       "      <td>1</td>\n",
       "      <td>1</td>\n",
       "      <td>1</td>\n",
       "      <td>1</td>\n",
       "    </tr>\n",
       "    <tr>\n",
       "      <td>against_psychic</td>\n",
       "      <td>2</td>\n",
       "      <td>2</td>\n",
       "      <td>2</td>\n",
       "      <td>1</td>\n",
       "      <td>1</td>\n",
       "    </tr>\n",
       "    <tr>\n",
       "      <td>against_rock</td>\n",
       "      <td>1</td>\n",
       "      <td>1</td>\n",
       "      <td>1</td>\n",
       "      <td>2</td>\n",
       "      <td>2</td>\n",
       "    </tr>\n",
       "    <tr>\n",
       "      <td>against_steel</td>\n",
       "      <td>1</td>\n",
       "      <td>1</td>\n",
       "      <td>1</td>\n",
       "      <td>0.5</td>\n",
       "      <td>0.5</td>\n",
       "    </tr>\n",
       "    <tr>\n",
       "      <td>against_water</td>\n",
       "      <td>0.5</td>\n",
       "      <td>0.5</td>\n",
       "      <td>0.5</td>\n",
       "      <td>2</td>\n",
       "      <td>2</td>\n",
       "    </tr>\n",
       "    <tr>\n",
       "      <td>attack</td>\n",
       "      <td>49</td>\n",
       "      <td>62</td>\n",
       "      <td>100</td>\n",
       "      <td>52</td>\n",
       "      <td>64</td>\n",
       "    </tr>\n",
       "    <tr>\n",
       "      <td>base_egg_steps</td>\n",
       "      <td>5120</td>\n",
       "      <td>5120</td>\n",
       "      <td>5120</td>\n",
       "      <td>5120</td>\n",
       "      <td>5120</td>\n",
       "    </tr>\n",
       "    <tr>\n",
       "      <td>base_happiness</td>\n",
       "      <td>70</td>\n",
       "      <td>70</td>\n",
       "      <td>70</td>\n",
       "      <td>70</td>\n",
       "      <td>70</td>\n",
       "    </tr>\n",
       "    <tr>\n",
       "      <td>base_total</td>\n",
       "      <td>318</td>\n",
       "      <td>405</td>\n",
       "      <td>625</td>\n",
       "      <td>309</td>\n",
       "      <td>405</td>\n",
       "    </tr>\n",
       "    <tr>\n",
       "      <td>capture_rate</td>\n",
       "      <td>45</td>\n",
       "      <td>45</td>\n",
       "      <td>45</td>\n",
       "      <td>45</td>\n",
       "      <td>45</td>\n",
       "    </tr>\n",
       "    <tr>\n",
       "      <td>classfication</td>\n",
       "      <td>Seed Pokémon</td>\n",
       "      <td>Seed Pokémon</td>\n",
       "      <td>Seed Pokémon</td>\n",
       "      <td>Lizard Pokémon</td>\n",
       "      <td>Flame Pokémon</td>\n",
       "    </tr>\n",
       "    <tr>\n",
       "      <td>defense</td>\n",
       "      <td>49</td>\n",
       "      <td>63</td>\n",
       "      <td>123</td>\n",
       "      <td>43</td>\n",
       "      <td>58</td>\n",
       "    </tr>\n",
       "    <tr>\n",
       "      <td>experience_growth</td>\n",
       "      <td>1059860</td>\n",
       "      <td>1059860</td>\n",
       "      <td>1059860</td>\n",
       "      <td>1059860</td>\n",
       "      <td>1059860</td>\n",
       "    </tr>\n",
       "    <tr>\n",
       "      <td>height_m</td>\n",
       "      <td>0.7</td>\n",
       "      <td>1</td>\n",
       "      <td>2</td>\n",
       "      <td>0.6</td>\n",
       "      <td>1.1</td>\n",
       "    </tr>\n",
       "    <tr>\n",
       "      <td>hp</td>\n",
       "      <td>45</td>\n",
       "      <td>60</td>\n",
       "      <td>80</td>\n",
       "      <td>39</td>\n",
       "      <td>58</td>\n",
       "    </tr>\n",
       "    <tr>\n",
       "      <td>japanese_name</td>\n",
       "      <td>Fushigidaneフシギダネ</td>\n",
       "      <td>Fushigisouフシギソウ</td>\n",
       "      <td>Fushigibanaフシギバナ</td>\n",
       "      <td>Hitokageヒトカゲ</td>\n",
       "      <td>Lizardoリザード</td>\n",
       "    </tr>\n",
       "    <tr>\n",
       "      <td>name</td>\n",
       "      <td>Bulbasaur</td>\n",
       "      <td>Ivysaur</td>\n",
       "      <td>Venusaur</td>\n",
       "      <td>Charmander</td>\n",
       "      <td>Charmeleon</td>\n",
       "    </tr>\n",
       "    <tr>\n",
       "      <td>percentage_male</td>\n",
       "      <td>88.1</td>\n",
       "      <td>88.1</td>\n",
       "      <td>88.1</td>\n",
       "      <td>88.1</td>\n",
       "      <td>88.1</td>\n",
       "    </tr>\n",
       "    <tr>\n",
       "      <td>pokedex_number</td>\n",
       "      <td>1</td>\n",
       "      <td>2</td>\n",
       "      <td>3</td>\n",
       "      <td>4</td>\n",
       "      <td>5</td>\n",
       "    </tr>\n",
       "    <tr>\n",
       "      <td>sp_attack</td>\n",
       "      <td>65</td>\n",
       "      <td>80</td>\n",
       "      <td>122</td>\n",
       "      <td>60</td>\n",
       "      <td>80</td>\n",
       "    </tr>\n",
       "    <tr>\n",
       "      <td>sp_defense</td>\n",
       "      <td>65</td>\n",
       "      <td>80</td>\n",
       "      <td>120</td>\n",
       "      <td>50</td>\n",
       "      <td>65</td>\n",
       "    </tr>\n",
       "    <tr>\n",
       "      <td>speed</td>\n",
       "      <td>45</td>\n",
       "      <td>60</td>\n",
       "      <td>80</td>\n",
       "      <td>65</td>\n",
       "      <td>80</td>\n",
       "    </tr>\n",
       "    <tr>\n",
       "      <td>type1</td>\n",
       "      <td>grass</td>\n",
       "      <td>grass</td>\n",
       "      <td>grass</td>\n",
       "      <td>fire</td>\n",
       "      <td>fire</td>\n",
       "    </tr>\n",
       "    <tr>\n",
       "      <td>type2</td>\n",
       "      <td>poison</td>\n",
       "      <td>poison</td>\n",
       "      <td>poison</td>\n",
       "      <td>NaN</td>\n",
       "      <td>NaN</td>\n",
       "    </tr>\n",
       "    <tr>\n",
       "      <td>weight_kg</td>\n",
       "      <td>6.9</td>\n",
       "      <td>13</td>\n",
       "      <td>100</td>\n",
       "      <td>8.5</td>\n",
       "      <td>19</td>\n",
       "    </tr>\n",
       "    <tr>\n",
       "      <td>generation</td>\n",
       "      <td>1</td>\n",
       "      <td>1</td>\n",
       "      <td>1</td>\n",
       "      <td>1</td>\n",
       "      <td>1</td>\n",
       "    </tr>\n",
       "    <tr>\n",
       "      <td>is_legendary</td>\n",
       "      <td>0</td>\n",
       "      <td>0</td>\n",
       "      <td>0</td>\n",
       "      <td>0</td>\n",
       "      <td>0</td>\n",
       "    </tr>\n",
       "  </tbody>\n",
       "</table>\n",
       "</div>"
      ],
      "text/plain": [
       "                                             0                            1  \\\n",
       "abilities          ['Overgrow', 'Chlorophyll']  ['Overgrow', 'Chlorophyll']   \n",
       "against_bug                                  1                            1   \n",
       "against_dark                                 1                            1   \n",
       "against_dragon                               1                            1   \n",
       "against_electric                           0.5                          0.5   \n",
       "against_fairy                              0.5                          0.5   \n",
       "against_fight                              0.5                          0.5   \n",
       "against_fire                                 2                            2   \n",
       "against_flying                               2                            2   \n",
       "against_ghost                                1                            1   \n",
       "against_grass                             0.25                         0.25   \n",
       "against_ground                               1                            1   \n",
       "against_ice                                  2                            2   \n",
       "against_normal                               1                            1   \n",
       "against_poison                               1                            1   \n",
       "against_psychic                              2                            2   \n",
       "against_rock                                 1                            1   \n",
       "against_steel                                1                            1   \n",
       "against_water                              0.5                          0.5   \n",
       "attack                                      49                           62   \n",
       "base_egg_steps                            5120                         5120   \n",
       "base_happiness                              70                           70   \n",
       "base_total                                 318                          405   \n",
       "capture_rate                                45                           45   \n",
       "classfication                     Seed Pokémon                 Seed Pokémon   \n",
       "defense                                     49                           63   \n",
       "experience_growth                      1059860                      1059860   \n",
       "height_m                                   0.7                            1   \n",
       "hp                                          45                           60   \n",
       "japanese_name                 Fushigidaneフシギダネ              Fushigisouフシギソウ   \n",
       "name                                 Bulbasaur                      Ivysaur   \n",
       "percentage_male                           88.1                         88.1   \n",
       "pokedex_number                               1                            2   \n",
       "sp_attack                                   65                           80   \n",
       "sp_defense                                  65                           80   \n",
       "speed                                       45                           60   \n",
       "type1                                    grass                        grass   \n",
       "type2                                   poison                       poison   \n",
       "weight_kg                                  6.9                           13   \n",
       "generation                                   1                            1   \n",
       "is_legendary                                 0                            0   \n",
       "\n",
       "                                             2                         3  \\\n",
       "abilities          ['Overgrow', 'Chlorophyll']  ['Blaze', 'Solar Power']   \n",
       "against_bug                                  1                       0.5   \n",
       "against_dark                                 1                         1   \n",
       "against_dragon                               1                         1   \n",
       "against_electric                           0.5                         1   \n",
       "against_fairy                              0.5                       0.5   \n",
       "against_fight                              0.5                         1   \n",
       "against_fire                                 2                       0.5   \n",
       "against_flying                               2                         1   \n",
       "against_ghost                                1                         1   \n",
       "against_grass                             0.25                       0.5   \n",
       "against_ground                               1                         2   \n",
       "against_ice                                  2                       0.5   \n",
       "against_normal                               1                         1   \n",
       "against_poison                               1                         1   \n",
       "against_psychic                              2                         1   \n",
       "against_rock                                 1                         2   \n",
       "against_steel                                1                       0.5   \n",
       "against_water                              0.5                         2   \n",
       "attack                                     100                        52   \n",
       "base_egg_steps                            5120                      5120   \n",
       "base_happiness                              70                        70   \n",
       "base_total                                 625                       309   \n",
       "capture_rate                                45                        45   \n",
       "classfication                     Seed Pokémon            Lizard Pokémon   \n",
       "defense                                    123                        43   \n",
       "experience_growth                      1059860                   1059860   \n",
       "height_m                                     2                       0.6   \n",
       "hp                                          80                        39   \n",
       "japanese_name                 Fushigibanaフシギバナ              Hitokageヒトカゲ   \n",
       "name                                  Venusaur                Charmander   \n",
       "percentage_male                           88.1                      88.1   \n",
       "pokedex_number                               3                         4   \n",
       "sp_attack                                  122                        60   \n",
       "sp_defense                                 120                        50   \n",
       "speed                                       80                        65   \n",
       "type1                                    grass                      fire   \n",
       "type2                                   poison                       NaN   \n",
       "weight_kg                                  100                       8.5   \n",
       "generation                                   1                         1   \n",
       "is_legendary                                 0                         0   \n",
       "\n",
       "                                          4  \n",
       "abilities          ['Blaze', 'Solar Power']  \n",
       "against_bug                             0.5  \n",
       "against_dark                              1  \n",
       "against_dragon                            1  \n",
       "against_electric                          1  \n",
       "against_fairy                           0.5  \n",
       "against_fight                             1  \n",
       "against_fire                            0.5  \n",
       "against_flying                            1  \n",
       "against_ghost                             1  \n",
       "against_grass                           0.5  \n",
       "against_ground                            2  \n",
       "against_ice                             0.5  \n",
       "against_normal                            1  \n",
       "against_poison                            1  \n",
       "against_psychic                           1  \n",
       "against_rock                              2  \n",
       "against_steel                           0.5  \n",
       "against_water                             2  \n",
       "attack                                   64  \n",
       "base_egg_steps                         5120  \n",
       "base_happiness                           70  \n",
       "base_total                              405  \n",
       "capture_rate                             45  \n",
       "classfication                 Flame Pokémon  \n",
       "defense                                  58  \n",
       "experience_growth                   1059860  \n",
       "height_m                                1.1  \n",
       "hp                                       58  \n",
       "japanese_name                   Lizardoリザード  \n",
       "name                             Charmeleon  \n",
       "percentage_male                        88.1  \n",
       "pokedex_number                            5  \n",
       "sp_attack                                80  \n",
       "sp_defense                               65  \n",
       "speed                                    80  \n",
       "type1                                  fire  \n",
       "type2                                   NaN  \n",
       "weight_kg                                19  \n",
       "generation                                1  \n",
       "is_legendary                              0  "
      ]
     },
     "execution_count": 10,
     "metadata": {},
     "output_type": "execute_result"
    }
   ],
   "source": [
    "df.head().T"
   ]
  },
  {
   "cell_type": "markdown",
   "metadata": {},
   "source": [
    "Om een classifier te bouwen zullen we eerst wat pipelines moeten bouwen om ervoor te zorgen dat het dataframe geschikt is voor verdere verwerking. \n",
    "\n",
    "Als eerste moeten we weten wat de unieke identifiers zijn die in de dataset zitten (zoals Name, Japanese name, pokedex_number) want die willen we er sowieso uit hebben. Ook als een waarde eventueel voor alle pokemons gelijk is hebben we er niets aan."
   ]
  },
  {
   "cell_type": "code",
   "execution_count": 11,
   "metadata": {},
   "outputs": [
    {
     "name": "stdout",
     "output_type": "stream",
     "text": [
      "['japanese_name', 'name', 'pokedex_number']\n"
     ]
    }
   ],
   "source": [
    "unique_values = []\n",
    "for col in df.columns:\n",
    "    if df[col].nunique() == df.shape[0]:\n",
    "        unique_values.append(col)\n",
    "\n",
    "\n",
    "def remove_cols(dataf, drop_cols=[]):\n",
    "    return df.loc[:, ~dataf.columns.isin(drop_cols)]\n",
    "\n",
    "print(unique_values)"
   ]
  },
  {
   "cell_type": "markdown",
   "metadata": {},
   "source": [
    "One hot encoding voor variabelen met text erin (behalve abilities, zie later)"
   ]
  },
  {
   "cell_type": "code",
   "execution_count": 12,
   "metadata": {},
   "outputs": [],
   "source": [
    "transform=['type1', 'type2']\n",
    "\n",
    "def dummify(dataf, cols_to_transform):\n",
    "    return_df = dataf.loc[:, ~dataf.columns.isin(cols_to_transform)]\n",
    "    for col in cols_to_transform:\n",
    "        d = pd.get_dummies(dataf[col])\n",
    "        return_df = pd.concat([return_df, d], axis=1)\n",
    "    return return_df"
   ]
  },
  {
   "cell_type": "markdown",
   "metadata": {},
   "source": [
    "In capture rate staat een gekke waarde. Daar gaan we iets anders voor maken."
   ]
  },
  {
   "cell_type": "code",
   "execution_count": 13,
   "metadata": {},
   "outputs": [
    {
     "name": "stdout",
     "output_type": "stream",
     "text": [
      "30 (Meteorite)255 (Core)\n"
     ]
    }
   ],
   "source": [
    "print(df['capture_rate'][773])\n",
    "\n",
    "def impute_meteorite(dataf):\n",
    "    return_df = dataf.replace({'capture_rate' : '30 (Meteorite)255 (Core)'}, 30)\n",
    "    return return_df"
   ]
  },
  {
   "cell_type": "markdown",
   "metadata": {},
   "source": [
    "Verder, met wat er nu in abilities staat, kunnen we ook even niet zoveel. Dus laten we die voor de test/train split ook eerst verder bekijken."
   ]
  },
  {
   "cell_type": "code",
   "execution_count": 14,
   "metadata": {},
   "outputs": [
    {
     "name": "stdout",
     "output_type": "stream",
     "text": [
      "['Overgrow', 'Chlorophyll']\n"
     ]
    }
   ],
   "source": [
    "print(df.abilities[0])\n",
    "\n"
   ]
  },
  {
   "cell_type": "code",
   "execution_count": 15,
   "metadata": {},
   "outputs": [],
   "source": [
    "\n",
    "import ast\n",
    "def one_hot_abilities(dataf):\n",
    "    all_abilities = []\n",
    "    for abilities in df.abilities:\n",
    "        for ability in ast.literal_eval(abilities):\n",
    "            all_abilities.append(ability)\n",
    "    all_abilities=list(dict.fromkeys(all_abilities))    \n",
    "    \n",
    "    zeros = pd.DataFrame(np.zeros(shape=(df.shape[0], len(all_abilities))), columns=all_abilities)\n",
    "\n",
    "    for ability in all_abilities:\n",
    "        true_vector = df.abilities.str.contains(ability).astype('uint8')\n",
    "        zeros[ability] = true_vector\n",
    "        \n",
    "    return_df =  dataf.loc[:, ~dataf.columns.isin(['abilities'])]\n",
    "    return pd.concat([return_df, zeros], axis=1)\n",
    "\n"
   ]
  },
  {
   "cell_type": "markdown",
   "metadata": {},
   "source": []
  },
  {
   "cell_type": "code",
   "execution_count": null,
   "metadata": {},
   "outputs": [],
   "source": []
  },
  {
   "cell_type": "markdown",
   "metadata": {},
   "source": [
    "Apply functions"
   ]
  },
  {
   "cell_type": "code",
   "execution_count": null,
   "metadata": {},
   "outputs": [],
   "source": [
    "\n"
   ]
  },
  {
   "cell_type": "code",
   "execution_count": 16,
   "metadata": {},
   "outputs": [],
   "source": [
    "\n",
    "\n",
    "df_base = (df\n",
    "          .pipe(remove_cols, ['japanese_name', 'name', 'pokedex_number', 'classfication'])\n",
    "          .pipe(impute_meteorite)\n",
    "          .pipe(dummify, ['type1', 'type2'])\n",
    "          .pipe(one_hot_abilities)\n",
    "          )"
   ]
  },
  {
   "cell_type": "markdown",
   "metadata": {},
   "source": [
    "## Test - train split maken.\n",
    "Op basis van is_legendary willen we een test (20%) en train (80%) split maken. Let op hoeveel variabelen we hebben, daar zullen we in moeten snijden."
   ]
  },
  {
   "cell_type": "code",
   "execution_count": 17,
   "metadata": {},
   "outputs": [
    {
     "name": "stdout",
     "output_type": "stream",
     "text": [
      "(640, 296)\n",
      "(161, 296)\n",
      "['height_m', 'percentage_male', 'weight_kg']\n"
     ]
    }
   ],
   "source": [
    "from sklearn.model_selection import train_test_split\n",
    "\n",
    "X = df_base\n",
    "X = X.drop('is_legendary', axis=1)\n",
    "y = df_base.is_legendary\n",
    "\n",
    "X_train, X_test, y_train, y_test = train_test_split(X, y, test_size=0.20, random_state=42)\n",
    "\n",
    "print(X_train.shape)\n",
    "print(X_test.shape)\n",
    "print(X_train.columns[X_train.isna().any()].tolist())"
   ]
  },
  {
   "cell_type": "markdown",
   "metadata": {},
   "source": [
    "Moet nog iets aan de NaNs doen..."
   ]
  },
  {
   "cell_type": "code",
   "execution_count": 18,
   "metadata": {},
   "outputs": [],
   "source": [
    "from sklearn.impute import SimpleImputer\n",
    "from sklearn.compose import ColumnTransformer\n",
    "cols = X_train.columns\n",
    "\n",
    "imputer = SimpleImputer(missing_values=np.nan, strategy='mean')\n",
    "imputer = imputer.fit(X_train)\n",
    "X_train = pd.DataFrame(imputer.transform(X_train), columns=cols)\n",
    "X_test = pd.DataFrame(imputer.transform(X_test), columns=cols)\n",
    "\n",
    "\n"
   ]
  },
  {
   "cell_type": "code",
   "execution_count": null,
   "metadata": {},
   "outputs": [],
   "source": []
  },
  {
   "cell_type": "markdown",
   "metadata": {},
   "source": [
    "markdownblock"
   ]
  },
  {
   "cell_type": "code",
   "execution_count": 19,
   "metadata": {},
   "outputs": [
    {
     "data": {
      "text/plain": [
       "RandomForestClassifier(bootstrap=True, class_weight=None, criterion='gini',\n",
       "                       max_depth=5, max_features='auto', max_leaf_nodes=None,\n",
       "                       min_impurity_decrease=0.0, min_impurity_split=None,\n",
       "                       min_samples_leaf=1, min_samples_split=2,\n",
       "                       min_weight_fraction_leaf=0.0, n_estimators=50,\n",
       "                       n_jobs=None, oob_score=False, random_state=0, verbose=0,\n",
       "                       warm_start=False)"
      ]
     },
     "execution_count": 19,
     "metadata": {},
     "output_type": "execute_result"
    }
   ],
   "source": [
    "from sklearn.ensemble import RandomForestClassifier\n",
    "\n",
    "clf = RandomForestClassifier(n_estimators=50, max_depth=5, random_state=0)\n",
    "clf.fit(X_train, y_train)"
   ]
  },
  {
   "cell_type": "markdown",
   "metadata": {},
   "source": []
  },
  {
   "cell_type": "code",
   "execution_count": 20,
   "metadata": {},
   "outputs": [
    {
     "data": {
      "text/plain": [
       "array([[587,   1],\n",
       "       [  4,  48]], dtype=int64)"
      ]
     },
     "execution_count": 20,
     "metadata": {},
     "output_type": "execute_result"
    }
   ],
   "source": [
    "predict_train = clf.predict(X_train)\n",
    "from sklearn.metrics import confusion_matrix\n",
    "\n",
    "confusion_matrix(y_train, predict_train)"
   ]
  },
  {
   "cell_type": "markdown",
   "metadata": {},
   "source": [
    "Confusion matrix ziet er goed uit voor deze classifer. Hoe gaat die op test?"
   ]
  },
  {
   "cell_type": "code",
   "execution_count": 21,
   "metadata": {},
   "outputs": [
    {
     "data": {
      "text/plain": [
       "array([[143,   0],\n",
       "       [  3,  15]], dtype=int64)"
      ]
     },
     "execution_count": 21,
     "metadata": {},
     "output_type": "execute_result"
    }
   ],
   "source": [
    "predict_test = clf.predict(X_test)\n",
    "confusion_matrix(y_test, predict_test)"
   ]
  }
 ],
 "metadata": {
  "kernelspec": {
   "display_name": "Python 3",
   "language": "python",
   "name": "python3"
  },
  "language_info": {
   "codemirror_mode": {
    "name": "ipython",
    "version": 3
   },
   "file_extension": ".py",
   "mimetype": "text/x-python",
   "name": "python",
   "nbconvert_exporter": "python",
   "pygments_lexer": "ipython3",
   "version": "3.7.4"
  }
 },
 "nbformat": 4,
 "nbformat_minor": 4
}
